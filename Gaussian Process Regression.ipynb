{
 "cells": [
  {
   "cell_type": "code",
   "execution_count": 1,
   "metadata": {},
   "outputs": [
    {
     "name": "stderr",
     "output_type": "stream",
     "text": [
      "2024-10-25 20:16:33.946 \n",
      "  \u001b[33m\u001b[1mWarning:\u001b[0m to view this Streamlit app on a browser, run it with the following\n",
      "  command:\n",
      "\n",
      "    streamlit run /Users/josesosa/Library/Python/3.9/lib/python/site-packages/ipykernel_launcher.py [ARGUMENTS]\n",
      "2024-10-25 20:16:33.947 Session state does not function when running a script without `streamlit run`\n"
     ]
    },
    {
     "name": "stdout",
     "output_type": "stream",
     "text": [
      "[*********************100%%**********************]  1 of 1 completed\n"
     ]
    },
    {
     "name": "stderr",
     "output_type": "stream",
     "text": [
      "/Users/josesosa/Library/Python/3.9/lib/python/site-packages/sklearn/gaussian_process/kernels.py:429: ConvergenceWarning: The optimal value found for dimension 0 of parameter k1__length_scale is close to the specified upper bound 100000.0. Increasing the bound and calling fit again may find a better value.\n",
      "  warnings.warn(\n"
     ]
    },
    {
     "ename": "IndexError",
     "evalue": "invalid index to scalar variable.",
     "output_type": "error",
     "traceback": [
      "\u001b[0;31m---------------------------------------------------------------------------\u001b[0m",
      "\u001b[0;31mIndexError\u001b[0m                                Traceback (most recent call last)",
      "Cell \u001b[0;32mIn [1], line 72\u001b[0m\n\u001b[1;32m     69\u001b[0m             st\u001b[38;5;241m.\u001b[39minfo(\u001b[38;5;124m\"\u001b[39m\u001b[38;5;124mGPR Neutral Forecast\u001b[39m\u001b[38;5;124m\"\u001b[39m)\n\u001b[1;32m     71\u001b[0m \u001b[38;5;28;01mif\u001b[39;00m \u001b[38;5;18m__name__\u001b[39m \u001b[38;5;241m==\u001b[39m \u001b[38;5;124m\"\u001b[39m\u001b[38;5;124m__main__\u001b[39m\u001b[38;5;124m\"\u001b[39m:\n\u001b[0;32m---> 72\u001b[0m     \u001b[43mmain\u001b[49m\u001b[43m(\u001b[49m\u001b[43m)\u001b[49m\n",
      "Cell \u001b[0;32mIn [1], line 63\u001b[0m, in \u001b[0;36mmain\u001b[0;34m()\u001b[0m\n\u001b[1;32m     61\u001b[0m \u001b[38;5;28;01mif\u001b[39;00m \u001b[38;5;28mlen\u001b[39m(y_pred) \u001b[38;5;241m>\u001b[39m \u001b[38;5;28mlen\u001b[39m(y):\n\u001b[1;32m     62\u001b[0m     last_actual \u001b[38;5;241m=\u001b[39m y[\u001b[38;5;241m-\u001b[39m\u001b[38;5;241m1\u001b[39m][\u001b[38;5;241m0\u001b[39m]\n\u001b[0;32m---> 63\u001b[0m     last_forecast \u001b[38;5;241m=\u001b[39m \u001b[43my_pred\u001b[49m\u001b[43m[\u001b[49m\u001b[38;5;241;43m-\u001b[39;49m\u001b[38;5;241;43m1\u001b[39;49m\u001b[43m]\u001b[49m\u001b[43m[\u001b[49m\u001b[38;5;241;43m0\u001b[39;49m\u001b[43m]\u001b[49m\n\u001b[1;32m     64\u001b[0m     \u001b[38;5;28;01mif\u001b[39;00m last_forecast \u001b[38;5;241m>\u001b[39m last_actual:\n\u001b[1;32m     65\u001b[0m         st\u001b[38;5;241m.\u001b[39msuccess(\u001b[38;5;124m\"\u001b[39m\u001b[38;5;124mGPR Bullish Forecast\u001b[39m\u001b[38;5;124m\"\u001b[39m)\n",
      "\u001b[0;31mIndexError\u001b[0m: invalid index to scalar variable."
     ]
    }
   ],
   "source": [
    "import streamlit as st\n",
    "import numpy as np\n",
    "import pandas as pd\n",
    "from sklearn.gaussian_process import GaussianProcessRegressor\n",
    "from sklearn.gaussian_process.kernels import RBF, WhiteKernel\n",
    "import matplotlib.pyplot as plt\n",
    "import yfinance as yf\n",
    "\n",
    "def load_data(symbol, start_date, end_date):\n",
    "    data = yf.download(symbol, start=start_date, end=end_date)\n",
    "    return data['Close'].values\n",
    "\n",
    "def create_features(data, lookback_period):\n",
    "    X = np.arange(len(data)).reshape(-1, 1)\n",
    "    y = data.reshape(-1, 1)\n",
    "    return X, y\n",
    "\n",
    "def perform_gpr(X, y, X_pred, length_scale, noise_variance):\n",
    "    kernel = RBF(length_scale=length_scale) + WhiteKernel(noise_level=noise_variance)\n",
    "    gpr = GaussianProcessRegressor(kernel=kernel, n_restarts_optimizer=10)\n",
    "    gpr.fit(X, y)\n",
    "    y_pred, sigma = gpr.predict(X_pred, return_std=True)\n",
    "    return y_pred, sigma\n",
    "\n",
    "def main():\n",
    "    st.title(\"Gaussian Process Regression Indicator\")\n",
    "\n",
    "    # Sidebar inputs\n",
    "    symbol = st.sidebar.text_input(\"Stock Symbol\", \"AAPL\")\n",
    "    start_date = st.sidebar.date_input(\"Start Date\", pd.to_datetime(\"2022-01-01\"))\n",
    "    end_date = st.sidebar.date_input(\"End Date\", pd.to_datetime(\"2023-01-01\"))\n",
    "    lookback_period = st.sidebar.slider(\"Lookback Period\", 10, 200, 100)\n",
    "    prediction_horizon = st.sidebar.slider(\"Prediction Horizon\", 1, 50, 30)\n",
    "    length_scale = st.sidebar.slider(\"Length Scale\", 1.0, 20.0, 10.0)\n",
    "    noise_variance = st.sidebar.slider(\"Noise Variance\", 0.01, 1.0, 0.1, 0.01)\n",
    "\n",
    "    # Load data\n",
    "    data = load_data(symbol, start_date, end_date)\n",
    "\n",
    "    # Create features\n",
    "    X, y = create_features(data, lookback_period)\n",
    "\n",
    "    # Prepare prediction range\n",
    "    X_pred = np.arange(len(data) + prediction_horizon).reshape(-1, 1)\n",
    "\n",
    "    # Perform GPR\n",
    "    y_pred, sigma = perform_gpr(X, y, X_pred, length_scale, noise_variance)\n",
    "\n",
    "    # Plot results\n",
    "    fig, ax = plt.subplots(figsize=(12, 6))\n",
    "    ax.plot(X, y, label='Actual', color='blue')\n",
    "    ax.plot(X_pred, y_pred, label='GPR mean', color='red')\n",
    "    ax.fill_between(X_pred.ravel(), y_pred.ravel() - 1.96 * sigma, y_pred.ravel() + 1.96 * sigma,\n",
    "                    alpha=0.2, color='red', label='95% confidence interval')\n",
    "    ax.set_xlabel('Time')\n",
    "    ax.set_ylabel('Price')\n",
    "    ax.legend()\n",
    "    st.pyplot(fig)\n",
    "\n",
    "    # Generate alert\n",
    "    if len(y_pred) > len(y):\n",
    "        last_actual = y[-1][0]\n",
    "        last_forecast = y_pred[-1][0]\n",
    "        if last_forecast > last_actual:\n",
    "            st.success(\"GPR Bullish Forecast\")\n",
    "        elif last_forecast < last_actual:\n",
    "            st.error(\"GPR Bearish Forecast\")\n",
    "        else:\n",
    "            st.info(\"GPR Neutral Forecast\")\n",
    "\n",
    "if __name__ == \"__main__\":\n",
    "    main()"
   ]
  },
  {
   "cell_type": "code",
   "execution_count": null,
   "metadata": {},
   "outputs": [],
   "source": []
  }
 ],
 "metadata": {
  "kernelspec": {
   "display_name": "Python 3",
   "language": "python",
   "name": "python3"
  },
  "language_info": {
   "codemirror_mode": {
    "name": "ipython",
    "version": 3
   },
   "file_extension": ".py",
   "mimetype": "text/x-python",
   "name": "python",
   "nbconvert_exporter": "python",
   "pygments_lexer": "ipython3",
   "version": "3.9.6"
  }
 },
 "nbformat": 4,
 "nbformat_minor": 2
}
